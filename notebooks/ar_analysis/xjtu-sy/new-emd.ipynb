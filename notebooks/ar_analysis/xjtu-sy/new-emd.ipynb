{
 "cells": [
  {
   "cell_type": "code",
   "execution_count": 13,
   "id": "d6eb74f6-9f98-42da-b493-a31a5984d840",
   "metadata": {},
   "outputs": [],
   "source": [
    "import numpy as np\n",
    "import scipy as sp\n",
    "import matplotlib.pyplot as plt\n",
    "from PyEMD import EMD, EEMD\n",
    "%matplotlib inline"
   ]
  },
  {
   "cell_type": "code",
   "execution_count": 18,
   "id": "f09d79a9-609a-4a53-9117-4fb513c4bf70",
   "metadata": {},
   "outputs": [
    {
     "data": {
      "text/plain": [
       "array([6.      , 2.6     , 2.86    , 7.346   , 5.1006  , 5.53266 ,\n",
       "       8.940126])"
      ]
     },
     "execution_count": 18,
     "metadata": {},
     "output_type": "execute_result"
    }
   ],
   "source": [
    "x = np.array([3, 4, 5, 6, 7, 8, 9])\n",
    "a = np.array([1, 0.9, 0.8])\n",
    "b = np.array([2])\n",
    "y = sp.signal.lfilter(b, a, x)\n",
    "y"
   ]
  }
 ],
 "metadata": {
  "kernelspec": {
   "display_name": "Python 3 (ipykernel)",
   "language": "python",
   "name": "python3"
  },
  "language_info": {
   "codemirror_mode": {
    "name": "ipython",
    "version": 3
   },
   "file_extension": ".py",
   "mimetype": "text/x-python",
   "name": "python",
   "nbconvert_exporter": "python",
   "pygments_lexer": "ipython3",
   "version": "3.8.12"
  }
 },
 "nbformat": 4,
 "nbformat_minor": 5
}
