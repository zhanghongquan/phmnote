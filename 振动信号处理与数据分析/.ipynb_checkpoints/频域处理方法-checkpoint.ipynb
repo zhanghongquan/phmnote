{
 "cells": [
  {
   "cell_type": "code",
   "execution_count": null,
   "id": "741205a7-61eb-4e34-a861-2b1129327f03",
   "metadata": {},
   "outputs": [],
   "source": [
    "%matplotlib inline\n",
    "import numpy as np\n",
    "import scipy as sp\n",
    "import pandas as pd\n",
    "import os"
   ]
  },
  {
   "cell_type": "markdown",
   "id": "31c059e9-fea8-43ad-987f-abaa38b2fa7b",
   "metadata": {
    "tags": []
   },
   "source": [
    "# 频谱分析方法\n",
    "\n",
    "\n",
    "## 非周期信号频谱\n",
    "\n",
    "对于周期信号， 可以使用傅里叶级数展开得到离散频谱\n",
    "对于非周期信号， 如果是一般的确定性信号， 设为$x(t)$, 可以利用傅里叶变换得到其频谱$X(f)$:\n",
    "\n",
    "$X(f) = \\int_{-\\infty}^{+\\infty} x(t) e ^{-j2 \\pi ft}dt$\n",
    "\n",
    "其傅里叶逆变换为\n",
    "\n",
    "$ x(t) = \\int_{-\\infty}^{+\\infty} X(f)e^{j2\\pi ft}df $\n"
   ]
  }
 ],
 "metadata": {
  "kernelspec": {
   "display_name": "Python 3 (ipykernel)",
   "language": "python",
   "name": "python3"
  },
  "language_info": {
   "codemirror_mode": {
    "name": "ipython",
    "version": 3
   },
   "file_extension": ".py",
   "mimetype": "text/x-python",
   "name": "python",
   "nbconvert_exporter": "python",
   "pygments_lexer": "ipython3",
   "version": "3.8.12"
  }
 },
 "nbformat": 4,
 "nbformat_minor": 5
}
