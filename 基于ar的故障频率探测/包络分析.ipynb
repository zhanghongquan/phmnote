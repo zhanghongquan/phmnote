{
 "cells": [
  {
   "cell_type": "code",
   "execution_count": 4,
   "id": "da9bcc9c-a858-4776-9524-28f7ac872634",
   "metadata": {},
   "outputs": [],
   "source": [
    "%matplotlib inline\n",
    "import numpy as np\n",
    "import scipy as sp\n",
    "import pandas as pd\n",
    "import statsmodels.api as sm\n",
    "import os,sys"
   ]
  },
  {
   "cell_type": "markdown",
   "id": "316fd78f-41cf-4dba-90e4-4fe9ea56603f",
   "metadata": {},
   "source": [
    "# 基于包络分析的滚动轴承故障频率判断\n",
    "\n",
    "首先请看下图了解几个轴承参数\n",
    "![轴承参数](./images/bearing_parameters.jpg)\n"
   ]
  },
  {
   "cell_type": "markdown",
   "id": "70968874-31ad-4810-909a-bc55aa13d864",
   "metadata": {},
   "source": [
    "## 滚动轴承故障探测\n",
    "\n",
    "当滚动轴承的滚珠撞击内圈、外圈上的蚀点、裂纹等故障体后， 就会以如下集中频率产生撞击信号\n",
    "\n",
    "$BPFO (Ball Pass Frequency Outer race) = \\dfrac{nf_s}{2}\\left\\{1+\\dfrac{d}{D}cos\\alpha\\right\\}$\n",
    "\n",
    "$BPFI (Ball Pass Frequence Inner race) = \\dfrac{nf_s}{2}\\left\\{1-\\dfrac{d}{D}cos\\alpha\\right\\}$ \n",
    "\n",
    "$FTF (Fundamental Train Frequence) = \\dfrac{f_s}{2}\\left\\{1-\\dfrac{d}{D}cos\\alpha\\right\\}$\n",
    "\n",
    "$BSF (Ball Spin Frequency) = \\dfrac{Df_s}{d}\\left\\{ 1-\\left( \\dfrac{d}{D}cos\\alpha \\right)^2 \\right\\} $\n",
    "\n",
    "上述公式中 $D, d, \\alpha, n 和f_s$分别指代 轴承的外圈直径， 滚珠的直径， 滚珠和保持架的接触角， 滚珠数量， 轴承转速\n",
    "当轴承中产生了撞击的故障信号后， 会同时不断产生高频共振信号， 再加上其它轴承的固有信号， 相当于高频共振信号与低频故障信号和其它信号做了一个调制。故障信号极有可能被淹没在其它大幅值的信号之中导致无法被检出。\n",
    "\n",
    "### 故障信号调制\n",
    "\n",
    "其实应该说是故障信号被淹没在其它信号之中， 因为撞击产生的故障信号和共振信号， 轴承本身的信号， 白噪声等一起被调制产生出无法直接观察到故障频率的信号。 我们来看一下调制过程。\n",
    "\n",
    "![故障信号](./images/故障信号.jpg)\n",
    "\n",
    "上图是故障信号本身， 它将会被后面的高频信号调制\n",
    "\n",
    "![载波信号](./images/载波信号.jpg)\n",
    "\n",
    "上图就是高频共振信号，它将会成为故障信号的载波信号用于调制故障信号。\n",
    "\n",
    "![信号调制](./images/信号调制.jpg)\n",
    "\n",
    "故障信号被高频信号调制以后\n",
    "\n",
    "![信号包络](./images/信号包络.jpg)\n",
    "\n",
    "通过包络检波方法提取故障信号包络，从而获得故障频率信号。\n"
   ]
  }
 ],
 "metadata": {
  "kernelspec": {
   "display_name": "Python 3 (ipykernel)",
   "language": "python",
   "name": "python3"
  },
  "language_info": {
   "codemirror_mode": {
    "name": "ipython",
    "version": 3
   },
   "file_extension": ".py",
   "mimetype": "text/x-python",
   "name": "python",
   "nbconvert_exporter": "python",
   "pygments_lexer": "ipython3",
   "version": "3.8.11"
  }
 },
 "nbformat": 4,
 "nbformat_minor": 5
}
