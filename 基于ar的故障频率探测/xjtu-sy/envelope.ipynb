{
 "cells": [
  {
   "cell_type": "code",
   "execution_count": 2,
   "id": "c7537644-a0c2-4c9e-a5de-4ae200e3a560",
   "metadata": {},
   "outputs": [],
   "source": [
    "import pandas as pd\n",
    "import numpy as np\n",
    "import scipy as sp\n",
    "import matplotlib.pyplot as plt\n",
    "import os, math\n",
    "from functools import reduce\n",
    "import statsmodels.api as sm\n",
    "%matplotlib inline"
   ]
  },
  {
   "cell_type": "markdown",
   "id": "b2e42a6d-0e21-4894-b80a-f6d562cbc3de",
   "metadata": {},
   "source": [
    "学习一下包络算法大致上是怎么做的\n",
    "首先， 我们需要计算滚动轴承的一些基本参数\n",
    "\n",
    "BPFO， 外圈故障频率  $ BPFO = \\dfrac{nf_s}{2}\\left\\{ 1 + \\dfrac{d}{D} cos \\alpha \\right\\} $\n",
    "\n",
    "BPFI， 内圈故障频率  $ BPFI = \\dfrac{nf_s}{2}\\left\\{ 1 - \\dfrac{d}{D} cos \\alpha \\right\\} $\n",
    "\n",
    "FTF,   轴承基本频率  $ FTF = \\dfrac{f_s}{2}\\left\\{1-\\dfrac{d}{D}cos\\alpha\\right\\} $\n",
    "\n",
    "BSF，  滚珠故障频率  $ BSF = \\dfrac{Df_s}{d}\\left\\{1-\\left( \\dfrac{d}{D}cos\\alpha \\right)^2\\right\\} $\n",
    "\n",
    "其中$ D, d, \\alpha, n, f_s $ 分别代表轴承直径， 滚珠直径， 滚珠和保持架的接触角， 滚珠个数， 轴承旋转频率。"
   ]
  },
  {
   "cell_type": "code",
   "execution_count": 43,
   "id": "5ce699a3-66f1-4940-b1a8-e4dcaafafcc1",
   "metadata": {},
   "outputs": [],
   "source": [
    "f_s = 35\n",
    "pitch_diameter = 39.80 * 1 / 1000\n",
    "ball_diameter = 7.92 * 1 / 1000\n",
    "contact_angle = 0\n",
    "n_balls = 8\n",
    "filename = \"./35Hz12kN/Bearing1_1/100.csv\"\n",
    "df = pd.read_csv(filename)\n",
    "df = df.rename(columns={\"Horizontal_vibration_signals\":\"H\", \"Vertical_vibration_signals\":\"V\"})"
   ]
  },
  {
   "cell_type": "code",
   "execution_count": 44,
   "id": "026aa9d8-6082-4a30-ab37-5d5a662aec3b",
   "metadata": {},
   "outputs": [],
   "source": [
    "# 计算轴承的基本参数\n",
    "\n",
    "bpfo = n_balls * f_s / 2.0 * ( 1 + ball_diameter / pitch_diameter) * math.cos(contact_angle)\n",
    "bpfi = n_balls * f_s / 2.0 * ( 1 - ball_diameter /pitch_diameter ) * math.cos(contact_angle)\n",
    "ftf = f_s / 2.0 * (1 - ball_diameter/pitch_diameter) * math.cos(contact_angle)\n",
    "bsf = pitch_diameter * f_s / ball_diameter * ( 1 - ((ball_diameter / pitch_diameter)*math.cos(contact_angle))**2)"
   ]
  },
  {
   "cell_type": "code",
   "execution_count": 46,
   "id": "5109e6a9-cb00-491d-96a0-c19bc832b759",
   "metadata": {},
   "outputs": [
    {
     "name": "stdout",
     "output_type": "stream",
     "text": [
      "(array([ 6.54127770e-02,  4.40299241e-01,  2.55022730e-01,  3.11876331e-01,\n",
      "        1.65715507e-01, -2.22391494e-01, -1.60316919e-01, -4.30410674e-02,\n",
      "       -1.00062797e-01, -3.71147254e-01,  1.46919461e-01, -6.99162513e-02,\n",
      "       -6.39291920e-02,  3.43955073e-01, -4.26641201e-02, -2.54305112e-01,\n",
      "        4.30449640e-02, -2.26444027e-02,  4.16010875e-02,  6.12943951e-02,\n",
      "        2.67383312e-02, -7.29267021e-02, -7.44029468e-03,  1.83106924e-01,\n",
      "       -1.68595291e-01, -1.53823739e-01,  1.20276694e-01, -1.43425588e-01,\n",
      "       -7.43431704e-02,  6.70622592e-02,  4.07664830e-03,  1.74188413e-02,\n",
      "        2.30486483e-02, -2.29755116e-02, -5.45640538e-02, -3.48140428e-02,\n",
      "       -2.79595917e-02, -5.96087286e-02,  2.27563923e-02,  8.42888007e-02,\n",
      "        4.67974355e-02, -2.02687314e-02, -4.82107036e-02,  4.40177635e-02,\n",
      "       -4.62400367e-03, -8.17643375e-02, -1.42130892e-02, -3.37572066e-02,\n",
      "       -1.24566876e-02,  6.12510520e-02, -2.91915086e-02,  1.17787310e-02,\n",
      "        8.86869911e-02, -2.09915375e-02, -4.60740335e-02, -4.77456013e-02,\n",
      "        2.82622362e-02,  5.46076283e-03,  2.39586447e-02,  4.17466237e-02,\n",
      "       -2.58773424e-03,  1.09460351e-02, -5.28076377e-02, -3.63581715e-02,\n",
      "        8.40706649e-03,  1.29003872e-02,  4.61574348e-02,  2.27134357e-02,\n",
      "        2.38050574e-02,  1.91063466e-02, -9.96793464e-03,  1.06647606e-02,\n",
      "        3.41986710e-03, -1.01395369e-02, -6.11571098e-03,  9.33129819e-03,\n",
      "        1.32441520e-02,  1.82630116e-02,  2.33694099e-02,  1.33352498e-02,\n",
      "       -1.50583884e-02,  1.46649253e-02,  5.93794409e-02,  6.67703331e-03,\n",
      "       -2.64221320e-02,  1.20504405e-03, -1.02357102e-03, -4.59625798e-03,\n",
      "        3.84940074e-03,  1.81733996e-02,  1.62799384e-02, -4.64033110e-04,\n",
      "        2.13547894e-02,  2.69040735e-02,  2.04171444e-02,  1.76068562e-02,\n",
      "        1.18662249e-04,  7.66332158e-04, -1.14948420e-02, -9.29449189e-03,\n",
      "       -1.08891659e-02, -1.68310396e-02,  5.07376685e-03,  1.03154177e-02,\n",
      "        1.49452258e-02,  1.43357991e-02,  1.06806447e-02,  4.58964945e-02,\n",
      "        3.09812966e-02,  6.25230468e-04, -4.91174506e-03, -8.33388904e-03,\n",
      "       -2.26628216e-02,  9.91052689e-03,  2.98747366e-02,  1.32207568e-02,\n",
      "        1.38845104e-02,  1.75015939e-02, -2.00080445e-03, -1.98839919e-02,\n",
      "       -2.03578123e-02, -1.79520580e-02, -5.34084072e-03,  1.34255896e-02,\n",
      "        4.00343696e-02,  3.70738861e-02,  6.76812710e-03]), 0.907526617945067)\n"
     ]
    }
   ],
   "source": [
    "# 查找合适的ar参数\n",
    "max_iterator = 400\n",
    "N = len(df.V)\n",
    "max_kurtosis = -10\n",
    "max_p = 1\n",
    "for p in range(1, max_iterator):\n",
    "    a = sm.regression.linear_model.yule_walker(df.V, p)\n",
    "    X = np.zeros((N, p))\n",
    "    for i in range(0, p):\n",
    "        X[i:, i] = df.V[0:N-i]\n",
    "    xp = -X * a[1:]\n",
    "    e = df.V - xp[:,0].reshape(-1)\n",
    "    k = sp.stats.kurtosis(e[p+1:])\n",
    "    if k > max_kurtosis:\n",
    "        max_kurtosis = k\n",
    "        max_p = p\n",
    "opt_a = sm.regression.linear_model.yule_walker(df.V, max_p)\n",
    "print(opt_a)"
   ]
  }
 ],
 "metadata": {
  "kernelspec": {
   "display_name": "Python 3 (ipykernel)",
   "language": "python",
   "name": "python3"
  },
  "language_info": {
   "codemirror_mode": {
    "name": "ipython",
    "version": 3
   },
   "file_extension": ".py",
   "mimetype": "text/x-python",
   "name": "python",
   "nbconvert_exporter": "python",
   "pygments_lexer": "ipython3",
   "version": "3.8.8"
  }
 },
 "nbformat": 4,
 "nbformat_minor": 5
}
