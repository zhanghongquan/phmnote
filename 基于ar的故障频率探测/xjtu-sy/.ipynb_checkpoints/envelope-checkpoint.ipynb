{
 "cells": [
  {
   "cell_type": "code",
   "execution_count": 1,
   "id": "c7537644-a0c2-4c9e-a5de-4ae200e3a560",
   "metadata": {},
   "outputs": [],
   "source": [
    "import pandas as pd\n",
    "import numpy as np\n",
    "import scipy as sp\n",
    "import matplotlib.pyplot as plt\n",
    "import os, math\n",
    "from functools import reduce\n",
    "from PyEMD import EMD, Visualisation\n",
    "%matplotlib inline"
   ]
  },
  {
   "cell_type": "markdown",
   "id": "b2e42a6d-0e21-4894-b80a-f6d562cbc3de",
   "metadata": {},
   "source": [
    "学习一下包络算法大致上是怎么做的\n",
    "首先， 我们需要计算滚动轴承的一些基本参数\n",
    "\n",
    "BPFO， 外圈故障频率  $ BPFO = \\dfrac{nf_s}{2}\\left\\{ 1 + \\dfrac{d}{D} cos \\alpha \\right\\} $\n",
    "\n",
    "BPFI， 内圈故障频率  $ BPFI = \\dfrac{nf_s}{2}\\left\\{ 1 - \\dfrac{d}{D} cos \\alpha \\right\\} $\n",
    "\n",
    "FTF,   轴承基本频率  $ FTF = \\dfrac{f_s}{2}\\left\\{1-\\dfrac{d}{D}cos\\alpha\\right\\} $\n",
    "\n",
    "BSF，  滚珠故障频率  $ BSF = \\dfrac{Df_s}{d}\\left\\{1-\\left( \\dfrac{d}{D}cos\\alpha \\right)^2\\right\\} $\n",
    "\n",
    "其中$ D, d, \\alpha, n, f_s $ 分别代表轴承直径， 滚珠直径， 滚珠和保持架的接触角， 滚珠个数， 轴承旋转频率。"
   ]
  },
  {
   "cell_type": "code",
   "execution_count": 7,
   "id": "5ce699a3-66f1-4940-b1a8-e4dcaafafcc1",
   "metadata": {},
   "outputs": [],
   "source": [
    "f_s = 35\n",
    "pitch_diameter = 39.80 * 1 / 1000\n",
    "ball_diameter = 7.92 * 1 / 1000\n",
    "contact_angle = 0\n",
    "n_balls = 8"
   ]
  },
  {
   "cell_type": "code",
   "execution_count": 8,
   "id": "026aa9d8-6082-4a30-ab37-5d5a662aec3b",
   "metadata": {},
   "outputs": [],
   "source": [
    "# 计算轴承的基本参数\n",
    "\n",
    "bpfo = n_balls * f_s / 2.0 * ( 1 + ball_diameter / pitch_diameter) * math.cos(contact_angle)\n",
    "bpfi = n_balls * f_s / 2.0 * ( 1 - ball_diameter /pitch_diameter ) * math.cos(contact_angle)\n",
    "ftf = f_s / 2.0 * (1 - ball_diameter/pitch_diameter) * math.cos(contact_angle)\n",
    "bsf = pitch_diameter * f_s / ball_diameter * ( 1 - ((ball_diameter / pitch_diameter)*math.cos(contact_angle))**2)"
   ]
  },
  {
   "cell_type": "code",
   "execution_count": null,
   "id": "5109e6a9-cb00-491d-96a0-c19bc832b759",
   "metadata": {},
   "outputs": [],
   "source": [
    "# 查找合适的arma参数\n"
   ]
  }
 ],
 "metadata": {
  "kernelspec": {
   "display_name": "Python 3 (ipykernel)",
   "language": "python",
   "name": "python3"
  },
  "language_info": {
   "codemirror_mode": {
    "name": "ipython",
    "version": 3
   },
   "file_extension": ".py",
   "mimetype": "text/x-python",
   "name": "python",
   "nbconvert_exporter": "python",
   "pygments_lexer": "ipython3",
   "version": "3.8.12"
  }
 },
 "nbformat": 4,
 "nbformat_minor": 5
}
